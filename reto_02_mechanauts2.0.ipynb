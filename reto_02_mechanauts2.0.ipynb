{
 "cells": [
  {
   "cell_type": "code",
   "execution_count": 1,
   "id": "52e99be1",
   "metadata": {},
   "outputs": [],
   "source": [
    "# Se importan las librerias necesarias\n",
    "import math\n",
    "import numpy as np\n",
    "import rospy\n",
    "import time\n",
    "from sensor_msgs.msg import LaserScan\n",
    "from geometry_msgs.msg import Twist"
   ]
  },
  {
   "cell_type": "code",
   "execution_count": 2,
   "id": "65135603",
   "metadata": {},
   "outputs": [],
   "source": [
    "# A collection of conversion function for extracting numpy arrays from messages. http://wiki.ros.org/ros_numpy\n",
    "import ros_numpy"
   ]
  },
  {
   "cell_type": "code",
   "execution_count": 3,
   "id": "e118f69c",
   "metadata": {},
   "outputs": [],
   "source": [
    "# Iniciamos el nodo y se define el publisher de la velocidad a la que se movera la base del robot\n",
    "rospy.init_node('evasion_notebook_node') \n",
    "base_vel_pub = rospy.Publisher('/hsrb/command_velocity', Twist, queue_size=10)"
   ]
  },
  {
   "cell_type": "code",
   "execution_count": 4,
   "id": "834dbd09",
   "metadata": {},
   "outputs": [],
   "source": [
    "start_time_1 = rospy.Time.now().to_sec()  "
   ]
  },
  {
   "cell_type": "code",
   "execution_count": 5,
   "id": "74a07511",
   "metadata": {},
   "outputs": [],
   "source": [
    "def move_base_vel(vx, vy, vw):\n",
    "    twist = Twist()\n",
    "    twist.linear.x = vx\n",
    "    twist.linear.y = vy\n",
    "    twist.angular.z = vw \n",
    "    base_vel_pub.publish(twist)\n",
    "\n",
    "def move_base(x,y,yaw,timeout=5):\n",
    "    start_time = rospy.Time.now().to_sec()\n",
    "    while rospy.Time.now().to_sec() - start_time < timeout:  \n",
    "        move_base_vel(x, y, yaw)    "
   ]
  },
  {
   "cell_type": "code",
   "execution_count": 14,
   "id": "c7a39503",
   "metadata": {},
   "outputs": [],
   "source": [
    "def move_forward():\n",
    "    move_base(0.10,0,0,3)\n",
    "def move_backward():\n",
    "    move_base(-0.10,0,0,3)\n",
    "def turn_left():\n",
    "    move_base(0.0,0,0.12*np.pi,4)\n",
    "def turn_right():\n",
    "    move_base(0.0,0,-0.12*np.pi,4.2)\n",
    "def move_forward_1():\n",
    "    move_base(0.10,0,0,45)\n",
    "def move_backward_1():\n",
    "    move_base(-0.10,0,0,40)\n",
    "def turn_right_1():\n",
    "    move_base(0.0,0,-0.14*np.pi,3.5)\n",
    "def turn_left_1():\n",
    "    move_base(0.0,0,0.12*np.pi,3.5)\n",
    "def move_backward_2():\n",
    "    move_base(-0.10,0,0,40)\n",
    "def move_forward_2():\n",
    "    move_base(0.10,0,0,45)\n",
    "def move_stop():\n",
    "    move_base(0.0,0,0,1)\n",
    "def move_forwardf():\n",
    "    move_base(0.10,0,0,5)"
   ]
  },
  {
   "cell_type": "code",
   "execution_count": 7,
   "id": "9a92380a",
   "metadata": {},
   "outputs": [],
   "source": [
    "move_forward()\n",
    "move_stop()"
   ]
  },
  {
   "cell_type": "code",
   "execution_count": 8,
   "id": "5552a7f0",
   "metadata": {},
   "outputs": [],
   "source": [
    "turn_right()\n",
    "move_stop()"
   ]
  },
  {
   "cell_type": "code",
   "execution_count": 9,
   "id": "50bf6983",
   "metadata": {},
   "outputs": [],
   "source": [
    "move_forward_1()\n",
    "move_stop()"
   ]
  },
  {
   "cell_type": "code",
   "execution_count": 10,
   "id": "56c97afd",
   "metadata": {},
   "outputs": [],
   "source": [
    "turn_right_1()\n",
    "move_stop()"
   ]
  },
  {
   "cell_type": "code",
   "execution_count": 11,
   "id": "9d8d90bc",
   "metadata": {},
   "outputs": [],
   "source": [
    "move_forward_2()\n",
    "move_stop()"
   ]
  },
  {
   "cell_type": "code",
   "execution_count": 12,
   "id": "c7787d99",
   "metadata": {},
   "outputs": [],
   "source": [
    "turn_right_1()\n",
    "move_stop()"
   ]
  },
  {
   "cell_type": "code",
   "execution_count": 15,
   "id": "e27539b3",
   "metadata": {},
   "outputs": [],
   "source": [
    "move_forwardf()\n",
    "move_stop()"
   ]
  },
  {
   "cell_type": "code",
   "execution_count": 16,
   "id": "591afb5f",
   "metadata": {},
   "outputs": [],
   "source": [
    "move_forwardf()\n",
    "move_stop()"
   ]
  },
  {
   "cell_type": "code",
   "execution_count": 17,
   "id": "72671c96",
   "metadata": {},
   "outputs": [],
   "source": [
    "move_forwardf()\n",
    "move_stop()"
   ]
  },
  {
   "cell_type": "code",
   "execution_count": 18,
   "id": "e95aa93d",
   "metadata": {},
   "outputs": [],
   "source": [
    "start_time = rospy.Time.now().to_sec()  "
   ]
  },
  {
   "cell_type": "code",
   "execution_count": 19,
   "id": "0c0cc096",
   "metadata": {},
   "outputs": [],
   "source": [
    "import tf2_ros\n",
    "tfBuffer = tf2_ros.Buffer()\n",
    "listener = tf2_ros.TransformListener(tfBuffer)\n",
    "def get_coords ():\n",
    "    trans = tfBuffer.lookup_transform('map', 'base_link', rospy.Time())\n",
    "    return trans\n"
   ]
  },
  {
   "cell_type": "code",
   "execution_count": 20,
   "id": "754ded50",
   "metadata": {},
   "outputs": [],
   "source": [
    "coords_start= get_coords()\n"
   ]
  },
  {
   "cell_type": "code",
   "execution_count": 21,
   "id": "3a2a8915",
   "metadata": {},
   "outputs": [
    {
     "data": {
      "text/plain": [
       "(x: -4.060053100792136\n",
       " y: -3.6576088876358317\n",
       " z: 0.0,\n",
       " x: -4.060056888812566\n",
       " y: -3.6574020290478586\n",
       " z: 0.0)"
      ]
     },
     "execution_count": 21,
     "metadata": {},
     "output_type": "execute_result"
    }
   ],
   "source": [
    "coords_end= get_coords()\n",
    "coords_start.transform.translation,coords_end.transform.translation"
   ]
  },
  {
   "cell_type": "code",
   "execution_count": 22,
   "id": "76dbdc69",
   "metadata": {},
   "outputs": [
    {
     "name": "stdout",
     "output_type": "stream",
     "text": [
      "x: -4.060053100792136\n",
      "y: -3.6576088876358317\n",
      "z: 0.0 x: -4.060056888812566\n",
      "y: -3.6574020290478586\n",
      "z: 0.0\n"
     ]
    }
   ],
   "source": [
    "print(coords_start.transform.translation,coords_end.transform.translation)"
   ]
  },
  {
   "cell_type": "code",
   "execution_count": 23,
   "id": "dd8d8152",
   "metadata": {},
   "outputs": [
    {
     "name": "stdout",
     "output_type": "stream",
     "text": [
      "2333.047\n"
     ]
    }
   ],
   "source": [
    "print(start_time_1)"
   ]
  },
  {
   "cell_type": "code",
   "execution_count": 24,
   "id": "204dfeda",
   "metadata": {},
   "outputs": [
    {
     "name": "stdout",
     "output_type": "stream",
     "text": [
      "2531.048\n"
     ]
    },
    {
     "name": "stderr",
     "output_type": "stream",
     "text": [
      "Warning: TF_REPEATED_DATA ignoring data with redundant timestamp for frame odom at time 2534.721000 according to authority /pose_integrator\n",
      "         at line 278 in /tmp/binarydeb/ros-noetic-tf2-0.7.5/src/buffer_core.cpp\n",
      "Warning: TF_REPEATED_DATA ignoring data with redundant timestamp for frame odom at time 2548.197000 according to authority /pose_integrator\n",
      "         at line 278 in /tmp/binarydeb/ros-noetic-tf2-0.7.5/src/buffer_core.cpp\n",
      "Warning: TF_REPEATED_DATA ignoring data with redundant timestamp for frame odom at time 2549.000000 according to authority /pose_integrator\n",
      "         at line 278 in /tmp/binarydeb/ros-noetic-tf2-0.7.5/src/buffer_core.cpp\n"
     ]
    }
   ],
   "source": [
    "print(start_time)"
   ]
  },
  {
   "cell_type": "code",
   "execution_count": null,
   "id": "c7562335",
   "metadata": {},
   "outputs": [],
   "source": []
  }
 ],
 "metadata": {
  "kernelspec": {
   "display_name": "Python 3 (ipykernel)",
   "language": "python",
   "name": "python3"
  },
  "language_info": {
   "codemirror_mode": {
    "name": "ipython",
    "version": 3
   },
   "file_extension": ".py",
   "mimetype": "text/x-python",
   "name": "python",
   "nbconvert_exporter": "python",
   "pygments_lexer": "ipython3",
   "version": "3.8.10"
  }
 },
 "nbformat": 4,
 "nbformat_minor": 5
}
